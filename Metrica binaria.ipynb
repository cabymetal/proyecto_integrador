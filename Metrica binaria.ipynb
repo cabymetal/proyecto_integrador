{
 "cells": [
  {
   "cell_type": "code",
   "execution_count": 6,
   "metadata": {},
   "outputs": [
    {
     "name": "stdout",
     "output_type": "stream",
     "text": [
      "(0.6258194760871674, 0.8108108108108109, 0.6818181818181818, 0.851063829787234, 0.7692307692307693, 0.9523809523809523)\n"
     ]
    }
   ],
   "source": [
    "import numpy as np\n",
    "import math\n",
    "#función para evaluar metrica binaria\n",
    "def binary_scoring_metrics(conf_matrix):\n",
    "    a = conf_matrix[0,0];\n",
    "    b = conf_matrix[0,1];\n",
    "    c = conf_matrix[1,0];\n",
    "    d = conf_matrix[1,1];\n",
    "    \n",
    "    pearson = (a*d - b*c)/math.sqrt((a+c)*(b+d)*(a+b)*(c+d));\n",
    "    simple = (a+d)/(a+b+c+d)\n",
    "    Rogers = (a+d)/(a +2*b+2*c+d)\n",
    "    Dice = (2*a)/(2*a +b+c)\n",
    "    Braun = a/(max((a+b), (a+c)))\n",
    "    Simpson = a /(min((a+b), (a+c)))\n",
    "    \n",
    "    return (pearson, simple, Rogers, Dice, Braun, Simpson)\n",
    "print(binary_scoring_metrics(np.matrix([[100, 5],[30, 50]])))"
   ]
  },
  {
   "cell_type": "code",
   "execution_count": null,
   "metadata": {},
   "outputs": [],
   "source": []
  }
 ],
 "metadata": {
  "kernelspec": {
   "display_name": "Python 3",
   "language": "python",
   "name": "python3"
  },
  "language_info": {
   "codemirror_mode": {
    "name": "ipython",
    "version": 3
   },
   "file_extension": ".py",
   "mimetype": "text/x-python",
   "name": "python",
   "nbconvert_exporter": "python",
   "pygments_lexer": "ipython3",
   "version": "3.7.6"
  }
 },
 "nbformat": 4,
 "nbformat_minor": 4
}
