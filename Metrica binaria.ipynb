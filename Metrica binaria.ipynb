{
 "cells": [
  {
   "cell_type": "code",
   "execution_count": null,
   "metadata": {},
   "outputs": [],
   "source": [
    "#función para evaluar metrica binaria\n",
    "def binary_scoring_metrics(conf_matrix):\n",
    "    a = conf_matrix[0,0];\n",
    "    b = conf_matrix[0,1];\n",
    "    c = conf_matrix[1,0];\n",
    "    d = conf_matrix[1,1];\n",
    "    \n",
    "    pearson = (a*d - b*c)/sqrt((a+c)*(b+d)*(a+b)*(c+d));\n",
    "    return pearson"
   ]
  }
 ],
 "metadata": {
  "kernelspec": {
   "display_name": "Python 3",
   "language": "python",
   "name": "python3"
  },
  "language_info": {
   "codemirror_mode": {
    "name": "ipython",
    "version": 3
   },
   "file_extension": ".py",
   "mimetype": "text/x-python",
   "name": "python",
   "nbconvert_exporter": "python",
   "pygments_lexer": "ipython3",
   "version": "3.7.6"
  }
 },
 "nbformat": 4,
 "nbformat_minor": 4
}
