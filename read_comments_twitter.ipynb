{
 "cells": [
  {
   "cell_type": "markdown",
   "metadata": {},
   "source": [
    "# Proceso de captura y procesamiento de Tweets\n",
    "En esta primera parte se  realiza la lectura de archivos en S3, en la configuración de `SageMaker` se le da acceso al usuario para tener acceso a los bucket del repositoro, de esta manera podemos leer los datos usando pandas como si estuvieran locales en el equipo.\n",
    "\n",
    "Se debe tener en cuenta que la codificación del archivo es utf-16 por lo que al momento de leerlo se deben saltar algunas líneas con caracteres extraños"
   ]
  },
  {
   "cell_type": "code",
   "execution_count": 7,
   "metadata": {},
   "outputs": [
    {
     "name": "stderr",
     "output_type": "stream",
     "text": [
      "b'Skipping line 41116: expected 7 fields, saw 11\\nSkipping line 41247: expected 7 fields, saw 11\\nSkipping line 67200: expected 7 fields, saw 11\\nSkipping line 69160: expected 7 fields, saw 11\\n'\n"
     ]
    },
    {
     "data": {
      "text/html": [
       "<div>\n",
       "<style scoped>\n",
       "    .dataframe tbody tr th:only-of-type {\n",
       "        vertical-align: middle;\n",
       "    }\n",
       "\n",
       "    .dataframe tbody tr th {\n",
       "        vertical-align: top;\n",
       "    }\n",
       "\n",
       "    .dataframe thead th {\n",
       "        text-align: right;\n",
       "    }\n",
       "</style>\n",
       "<table border=\"1\" class=\"dataframe\">\n",
       "  <thead>\n",
       "    <tr style=\"text-align: right;\">\n",
       "      <th></th>\n",
       "      <th>id</th>\n",
       "      <th>comment</th>\n",
       "      <th>creation_time</th>\n",
       "      <th>source</th>\n",
       "      <th>tweet_id</th>\n",
       "      <th>user</th>\n",
       "      <th>user_id</th>\n",
       "    </tr>\n",
       "  </thead>\n",
       "  <tbody>\n",
       "    <tr>\n",
       "      <th>0</th>\n",
       "      <td>0</td>\n",
       "      <td>RT @NoSurrenderHK: @guardiannews The truth is ...</td>\n",
       "      <td>2020-06-13 16:07:02</td>\n",
       "      <td>Twitter for Android</td>\n",
       "      <td>1271836487663808513</td>\n",
       "      <td>currentecalamo</td>\n",
       "      <td>1005852785609326592</td>\n",
       "    </tr>\n",
       "    <tr>\n",
       "      <th>1</th>\n",
       "      <td>1</td>\n",
       "      <td>RT @MarisaKabas: Content warning: police bruta...</td>\n",
       "      <td>2020-06-13 16:07:02</td>\n",
       "      <td>Twitter for Android</td>\n",
       "      <td>1271836487663775744</td>\n",
       "      <td>Donald Dire</td>\n",
       "      <td>1088300096666591232</td>\n",
       "    </tr>\n",
       "    <tr>\n",
       "      <th>2</th>\n",
       "      <td>2</td>\n",
       "      <td>RT @shahmiruk: It is absolutely unfair &amp;amp; d...</td>\n",
       "      <td>2020-06-13 16:07:02</td>\n",
       "      <td>Twitter for iPhone</td>\n",
       "      <td>1271836487693275144</td>\n",
       "      <td>tanya cochrane 🕷#FBPE</td>\n",
       "      <td>25872176</td>\n",
       "    </tr>\n",
       "    <tr>\n",
       "      <th>3</th>\n",
       "      <td>3</td>\n",
       "      <td>RT @autotheoryqueen: TERFs police the boundari...</td>\n",
       "      <td>2020-06-13 16:07:02</td>\n",
       "      <td>Twitter for iPhone</td>\n",
       "      <td>1271836487747862529</td>\n",
       "      <td>Michael Bermingham</td>\n",
       "      <td>59031350</td>\n",
       "    </tr>\n",
       "    <tr>\n",
       "      <th>4</th>\n",
       "      <td>4</td>\n",
       "      <td>looks like a scary demon witch monster to me</td>\n",
       "      <td>2020-06-13 16:07:02</td>\n",
       "      <td>Twitter for iPhone</td>\n",
       "      <td>1271836487676579841</td>\n",
       "      <td>untossable chum</td>\n",
       "      <td>2771192143</td>\n",
       "    </tr>\n",
       "  </tbody>\n",
       "</table>\n",
       "</div>"
      ],
      "text/plain": [
       "   id                                            comment        creation_time  \\\n",
       "0   0  RT @NoSurrenderHK: @guardiannews The truth is ...  2020-06-13 16:07:02   \n",
       "1   1  RT @MarisaKabas: Content warning: police bruta...  2020-06-13 16:07:02   \n",
       "2   2  RT @shahmiruk: It is absolutely unfair &amp; d...  2020-06-13 16:07:02   \n",
       "3   3  RT @autotheoryqueen: TERFs police the boundari...  2020-06-13 16:07:02   \n",
       "4   4       looks like a scary demon witch monster to me  2020-06-13 16:07:02   \n",
       "\n",
       "                source             tweet_id                   user  \\\n",
       "0  Twitter for Android  1271836487663808513         currentecalamo   \n",
       "1  Twitter for Android  1271836487663775744            Donald Dire   \n",
       "2   Twitter for iPhone  1271836487693275144  tanya cochrane 🕷#FBPE   \n",
       "3   Twitter for iPhone  1271836487747862529     Michael Bermingham   \n",
       "4   Twitter for iPhone  1271836487676579841        untossable chum   \n",
       "\n",
       "               user_id  \n",
       "0  1005852785609326592  \n",
       "1  1088300096666591232  \n",
       "2             25872176  \n",
       "3             59031350  \n",
       "4           2771192143  "
      ]
     },
     "execution_count": 7,
     "metadata": {},
     "output_type": "execute_result"
    }
   ],
   "source": [
    "import pandas as pd\n",
    "df = pd.read_csv('s3://cmurill5tmp/comments.csv', encoding='utf-16', sep=',',  error_bad_lines=False)\n",
    "df.head()"
   ]
  },
  {
   "cell_type": "code",
   "execution_count": null,
   "metadata": {},
   "outputs": [],
   "source": []
  }
 ],
 "metadata": {
  "kernelspec": {
   "display_name": "conda_python3",
   "language": "python",
   "name": "conda_python3"
  },
  "language_info": {
   "codemirror_mode": {
    "name": "ipython",
    "version": 3
   },
   "file_extension": ".py",
   "mimetype": "text/x-python",
   "name": "python",
   "nbconvert_exporter": "python",
   "pygments_lexer": "ipython3",
   "version": "3.6.5"
  }
 },
 "nbformat": 4,
 "nbformat_minor": 4
}
